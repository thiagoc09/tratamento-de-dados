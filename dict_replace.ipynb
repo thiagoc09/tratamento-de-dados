{
  "nbformat": 4,
  "nbformat_minor": 0,
  "metadata": {
    "colab": {
      "name": "dict_replace.ipynb",
      "provenance": [],
      "authorship_tag": "ABX9TyPEaYjImAXtDfx3ovsMAnnK",
      "include_colab_link": true
    },
    "kernelspec": {
      "name": "python3",
      "display_name": "Python 3"
    },
    "language_info": {
      "name": "python"
    }
  },
  "cells": [
    {
      "cell_type": "markdown",
      "metadata": {
        "id": "view-in-github",
        "colab_type": "text"
      },
      "source": [
        "<a href=\"https://colab.research.google.com/github/thiagoc09/tratamento-de-dados/blob/main/dict_replace.ipynb\" target=\"_parent\"><img src=\"https://colab.research.google.com/assets/colab-badge.svg\" alt=\"Open In Colab\"/></a>"
      ]
    },
    {
      "cell_type": "markdown",
      "source": [
        "Dados relacionadas à taxa de homicídios no Brasil em 2017.Os dados originais podem ser encontrados no Kaggle."
      ],
      "metadata": {
        "id": "HfCzGT5PjGPZ"
      }
    },
    {
      "cell_type": "code",
      "execution_count": 1,
      "metadata": {
        "id": "9Iho8bBPjDef"
      },
      "outputs": [],
      "source": [
        "import pandas as pd \n",
        "df = pd.read_csv(\"https://www.dropbox.com/s/16nz0yikhma091u/homicidios_brasil_2017.csv?dl=1\")"
      ]
    },
    {
      "cell_type": "code",
      "source": [
        "df.head() \n",
        "##Observando o que tem na planilha de forma simplificada"
      ],
      "metadata": {
        "colab": {
          "base_uri": "https://localhost:8080/",
          "height": 206
        },
        "id": "nkefoW25jVGZ",
        "outputId": "ca883336-4243-4383-e541-bda70211208c"
      },
      "execution_count": 2,
      "outputs": [
        {
          "output_type": "execute_result",
          "data": {
            "text/plain": [
              "  UF;populacao;sigla;ano;homicidios;regiao\n",
              "0            Acre;829619;AC;2017;516;norte\n",
              "1    Alagoas;3375823;AL;2017;1813;nordeste\n",
              "2           Amapá;797722;AP;2017;383;norte\n",
              "3      Amazonas;4063614;AM;2017;1674;norte\n",
              "4     Bahia;15344447;BA;2017;7487;nordeste"
            ],
            "text/html": [
              "\n",
              "  <div id=\"df-42e3216c-ec84-46ec-9fa4-c1c56eeaaadf\">\n",
              "    <div class=\"colab-df-container\">\n",
              "      <div>\n",
              "<style scoped>\n",
              "    .dataframe tbody tr th:only-of-type {\n",
              "        vertical-align: middle;\n",
              "    }\n",
              "\n",
              "    .dataframe tbody tr th {\n",
              "        vertical-align: top;\n",
              "    }\n",
              "\n",
              "    .dataframe thead th {\n",
              "        text-align: right;\n",
              "    }\n",
              "</style>\n",
              "<table border=\"1\" class=\"dataframe\">\n",
              "  <thead>\n",
              "    <tr style=\"text-align: right;\">\n",
              "      <th></th>\n",
              "      <th>UF;populacao;sigla;ano;homicidios;regiao</th>\n",
              "    </tr>\n",
              "  </thead>\n",
              "  <tbody>\n",
              "    <tr>\n",
              "      <th>0</th>\n",
              "      <td>Acre;829619;AC;2017;516;norte</td>\n",
              "    </tr>\n",
              "    <tr>\n",
              "      <th>1</th>\n",
              "      <td>Alagoas;3375823;AL;2017;1813;nordeste</td>\n",
              "    </tr>\n",
              "    <tr>\n",
              "      <th>2</th>\n",
              "      <td>Amapá;797722;AP;2017;383;norte</td>\n",
              "    </tr>\n",
              "    <tr>\n",
              "      <th>3</th>\n",
              "      <td>Amazonas;4063614;AM;2017;1674;norte</td>\n",
              "    </tr>\n",
              "    <tr>\n",
              "      <th>4</th>\n",
              "      <td>Bahia;15344447;BA;2017;7487;nordeste</td>\n",
              "    </tr>\n",
              "  </tbody>\n",
              "</table>\n",
              "</div>\n",
              "      <button class=\"colab-df-convert\" onclick=\"convertToInteractive('df-42e3216c-ec84-46ec-9fa4-c1c56eeaaadf')\"\n",
              "              title=\"Convert this dataframe to an interactive table.\"\n",
              "              style=\"display:none;\">\n",
              "        \n",
              "  <svg xmlns=\"http://www.w3.org/2000/svg\" height=\"24px\"viewBox=\"0 0 24 24\"\n",
              "       width=\"24px\">\n",
              "    <path d=\"M0 0h24v24H0V0z\" fill=\"none\"/>\n",
              "    <path d=\"M18.56 5.44l.94 2.06.94-2.06 2.06-.94-2.06-.94-.94-2.06-.94 2.06-2.06.94zm-11 1L8.5 8.5l.94-2.06 2.06-.94-2.06-.94L8.5 2.5l-.94 2.06-2.06.94zm10 10l.94 2.06.94-2.06 2.06-.94-2.06-.94-.94-2.06-.94 2.06-2.06.94z\"/><path d=\"M17.41 7.96l-1.37-1.37c-.4-.4-.92-.59-1.43-.59-.52 0-1.04.2-1.43.59L10.3 9.45l-7.72 7.72c-.78.78-.78 2.05 0 2.83L4 21.41c.39.39.9.59 1.41.59.51 0 1.02-.2 1.41-.59l7.78-7.78 2.81-2.81c.8-.78.8-2.07 0-2.86zM5.41 20L4 18.59l7.72-7.72 1.47 1.35L5.41 20z\"/>\n",
              "  </svg>\n",
              "      </button>\n",
              "      \n",
              "  <style>\n",
              "    .colab-df-container {\n",
              "      display:flex;\n",
              "      flex-wrap:wrap;\n",
              "      gap: 12px;\n",
              "    }\n",
              "\n",
              "    .colab-df-convert {\n",
              "      background-color: #E8F0FE;\n",
              "      border: none;\n",
              "      border-radius: 50%;\n",
              "      cursor: pointer;\n",
              "      display: none;\n",
              "      fill: #1967D2;\n",
              "      height: 32px;\n",
              "      padding: 0 0 0 0;\n",
              "      width: 32px;\n",
              "    }\n",
              "\n",
              "    .colab-df-convert:hover {\n",
              "      background-color: #E2EBFA;\n",
              "      box-shadow: 0px 1px 2px rgba(60, 64, 67, 0.3), 0px 1px 3px 1px rgba(60, 64, 67, 0.15);\n",
              "      fill: #174EA6;\n",
              "    }\n",
              "\n",
              "    [theme=dark] .colab-df-convert {\n",
              "      background-color: #3B4455;\n",
              "      fill: #D2E3FC;\n",
              "    }\n",
              "\n",
              "    [theme=dark] .colab-df-convert:hover {\n",
              "      background-color: #434B5C;\n",
              "      box-shadow: 0px 1px 3px 1px rgba(0, 0, 0, 0.15);\n",
              "      filter: drop-shadow(0px 1px 2px rgba(0, 0, 0, 0.3));\n",
              "      fill: #FFFFFF;\n",
              "    }\n",
              "  </style>\n",
              "\n",
              "      <script>\n",
              "        const buttonEl =\n",
              "          document.querySelector('#df-42e3216c-ec84-46ec-9fa4-c1c56eeaaadf button.colab-df-convert');\n",
              "        buttonEl.style.display =\n",
              "          google.colab.kernel.accessAllowed ? 'block' : 'none';\n",
              "\n",
              "        async function convertToInteractive(key) {\n",
              "          const element = document.querySelector('#df-42e3216c-ec84-46ec-9fa4-c1c56eeaaadf');\n",
              "          const dataTable =\n",
              "            await google.colab.kernel.invokeFunction('convertToInteractive',\n",
              "                                                     [key], {});\n",
              "          if (!dataTable) return;\n",
              "\n",
              "          const docLinkHtml = 'Like what you see? Visit the ' +\n",
              "            '<a target=\"_blank\" href=https://colab.research.google.com/notebooks/data_table.ipynb>data table notebook</a>'\n",
              "            + ' to learn more about interactive tables.';\n",
              "          element.innerHTML = '';\n",
              "          dataTable['output_type'] = 'display_data';\n",
              "          await google.colab.output.renderOutput(dataTable, element);\n",
              "          const docLink = document.createElement('div');\n",
              "          docLink.innerHTML = docLinkHtml;\n",
              "          element.appendChild(docLink);\n",
              "        }\n",
              "      </script>\n",
              "    </div>\n",
              "  </div>\n",
              "  "
            ]
          },
          "metadata": {},
          "execution_count": 2
        }
      ]
    },
    {
      "cell_type": "code",
      "source": [
        "# carregando o arquivo com o separador correto\n",
        "df = pd.read_csv(\"https://www.dropbox.com/s/16nz0yikhma091u/homicidios_brasil_2017.csv?dl=1\", sep=\";\")\n",
        "df.head()"
      ],
      "metadata": {
        "colab": {
          "base_uri": "https://localhost:8080/",
          "height": 206
        },
        "id": "zhaXVW8xjcTz",
        "outputId": "38cd05ab-404c-4de4-bddc-5d7c9aad8420"
      },
      "execution_count": 4,
      "outputs": [
        {
          "output_type": "execute_result",
          "data": {
            "text/plain": [
              "         UF  populacao sigla   ano  homicidios    regiao\n",
              "0      Acre     829619    AC  2017         516     norte\n",
              "1   Alagoas    3375823    AL  2017        1813  nordeste\n",
              "2     Amapá     797722    AP  2017         383     norte\n",
              "3  Amazonas    4063614    AM  2017        1674     norte\n",
              "4     Bahia   15344447    BA  2017        7487  nordeste"
            ],
            "text/html": [
              "\n",
              "  <div id=\"df-e88f638b-b2f1-43bd-8701-0406cbd0bbea\">\n",
              "    <div class=\"colab-df-container\">\n",
              "      <div>\n",
              "<style scoped>\n",
              "    .dataframe tbody tr th:only-of-type {\n",
              "        vertical-align: middle;\n",
              "    }\n",
              "\n",
              "    .dataframe tbody tr th {\n",
              "        vertical-align: top;\n",
              "    }\n",
              "\n",
              "    .dataframe thead th {\n",
              "        text-align: right;\n",
              "    }\n",
              "</style>\n",
              "<table border=\"1\" class=\"dataframe\">\n",
              "  <thead>\n",
              "    <tr style=\"text-align: right;\">\n",
              "      <th></th>\n",
              "      <th>UF</th>\n",
              "      <th>populacao</th>\n",
              "      <th>sigla</th>\n",
              "      <th>ano</th>\n",
              "      <th>homicidios</th>\n",
              "      <th>regiao</th>\n",
              "    </tr>\n",
              "  </thead>\n",
              "  <tbody>\n",
              "    <tr>\n",
              "      <th>0</th>\n",
              "      <td>Acre</td>\n",
              "      <td>829619</td>\n",
              "      <td>AC</td>\n",
              "      <td>2017</td>\n",
              "      <td>516</td>\n",
              "      <td>norte</td>\n",
              "    </tr>\n",
              "    <tr>\n",
              "      <th>1</th>\n",
              "      <td>Alagoas</td>\n",
              "      <td>3375823</td>\n",
              "      <td>AL</td>\n",
              "      <td>2017</td>\n",
              "      <td>1813</td>\n",
              "      <td>nordeste</td>\n",
              "    </tr>\n",
              "    <tr>\n",
              "      <th>2</th>\n",
              "      <td>Amapá</td>\n",
              "      <td>797722</td>\n",
              "      <td>AP</td>\n",
              "      <td>2017</td>\n",
              "      <td>383</td>\n",
              "      <td>norte</td>\n",
              "    </tr>\n",
              "    <tr>\n",
              "      <th>3</th>\n",
              "      <td>Amazonas</td>\n",
              "      <td>4063614</td>\n",
              "      <td>AM</td>\n",
              "      <td>2017</td>\n",
              "      <td>1674</td>\n",
              "      <td>norte</td>\n",
              "    </tr>\n",
              "    <tr>\n",
              "      <th>4</th>\n",
              "      <td>Bahia</td>\n",
              "      <td>15344447</td>\n",
              "      <td>BA</td>\n",
              "      <td>2017</td>\n",
              "      <td>7487</td>\n",
              "      <td>nordeste</td>\n",
              "    </tr>\n",
              "  </tbody>\n",
              "</table>\n",
              "</div>\n",
              "      <button class=\"colab-df-convert\" onclick=\"convertToInteractive('df-e88f638b-b2f1-43bd-8701-0406cbd0bbea')\"\n",
              "              title=\"Convert this dataframe to an interactive table.\"\n",
              "              style=\"display:none;\">\n",
              "        \n",
              "  <svg xmlns=\"http://www.w3.org/2000/svg\" height=\"24px\"viewBox=\"0 0 24 24\"\n",
              "       width=\"24px\">\n",
              "    <path d=\"M0 0h24v24H0V0z\" fill=\"none\"/>\n",
              "    <path d=\"M18.56 5.44l.94 2.06.94-2.06 2.06-.94-2.06-.94-.94-2.06-.94 2.06-2.06.94zm-11 1L8.5 8.5l.94-2.06 2.06-.94-2.06-.94L8.5 2.5l-.94 2.06-2.06.94zm10 10l.94 2.06.94-2.06 2.06-.94-2.06-.94-.94-2.06-.94 2.06-2.06.94z\"/><path d=\"M17.41 7.96l-1.37-1.37c-.4-.4-.92-.59-1.43-.59-.52 0-1.04.2-1.43.59L10.3 9.45l-7.72 7.72c-.78.78-.78 2.05 0 2.83L4 21.41c.39.39.9.59 1.41.59.51 0 1.02-.2 1.41-.59l7.78-7.78 2.81-2.81c.8-.78.8-2.07 0-2.86zM5.41 20L4 18.59l7.72-7.72 1.47 1.35L5.41 20z\"/>\n",
              "  </svg>\n",
              "      </button>\n",
              "      \n",
              "  <style>\n",
              "    .colab-df-container {\n",
              "      display:flex;\n",
              "      flex-wrap:wrap;\n",
              "      gap: 12px;\n",
              "    }\n",
              "\n",
              "    .colab-df-convert {\n",
              "      background-color: #E8F0FE;\n",
              "      border: none;\n",
              "      border-radius: 50%;\n",
              "      cursor: pointer;\n",
              "      display: none;\n",
              "      fill: #1967D2;\n",
              "      height: 32px;\n",
              "      padding: 0 0 0 0;\n",
              "      width: 32px;\n",
              "    }\n",
              "\n",
              "    .colab-df-convert:hover {\n",
              "      background-color: #E2EBFA;\n",
              "      box-shadow: 0px 1px 2px rgba(60, 64, 67, 0.3), 0px 1px 3px 1px rgba(60, 64, 67, 0.15);\n",
              "      fill: #174EA6;\n",
              "    }\n",
              "\n",
              "    [theme=dark] .colab-df-convert {\n",
              "      background-color: #3B4455;\n",
              "      fill: #D2E3FC;\n",
              "    }\n",
              "\n",
              "    [theme=dark] .colab-df-convert:hover {\n",
              "      background-color: #434B5C;\n",
              "      box-shadow: 0px 1px 3px 1px rgba(0, 0, 0, 0.15);\n",
              "      filter: drop-shadow(0px 1px 2px rgba(0, 0, 0, 0.3));\n",
              "      fill: #FFFFFF;\n",
              "    }\n",
              "  </style>\n",
              "\n",
              "      <script>\n",
              "        const buttonEl =\n",
              "          document.querySelector('#df-e88f638b-b2f1-43bd-8701-0406cbd0bbea button.colab-df-convert');\n",
              "        buttonEl.style.display =\n",
              "          google.colab.kernel.accessAllowed ? 'block' : 'none';\n",
              "\n",
              "        async function convertToInteractive(key) {\n",
              "          const element = document.querySelector('#df-e88f638b-b2f1-43bd-8701-0406cbd0bbea');\n",
              "          const dataTable =\n",
              "            await google.colab.kernel.invokeFunction('convertToInteractive',\n",
              "                                                     [key], {});\n",
              "          if (!dataTable) return;\n",
              "\n",
              "          const docLinkHtml = 'Like what you see? Visit the ' +\n",
              "            '<a target=\"_blank\" href=https://colab.research.google.com/notebooks/data_table.ipynb>data table notebook</a>'\n",
              "            + ' to learn more about interactive tables.';\n",
              "          element.innerHTML = '';\n",
              "          dataTable['output_type'] = 'display_data';\n",
              "          await google.colab.output.renderOutput(dataTable, element);\n",
              "          const docLink = document.createElement('div');\n",
              "          docLink.innerHTML = docLinkHtml;\n",
              "          element.appendChild(docLink);\n",
              "        }\n",
              "      </script>\n",
              "    </div>\n",
              "  </div>\n",
              "  "
            ]
          },
          "metadata": {},
          "execution_count": 4
        }
      ]
    },
    {
      "cell_type": "markdown",
      "source": [
        "Acima, ao fazer uma verificação rápida no conjunto de dados conseguimos percerber que a sigla para os estado\u0010s de Goiás (G) e São Paulo não estão corretamente lançadas na coluna `Sigla`. \n",
        "\n",
        "Precisamos consertar esse detalhe para que possamos fazer uma análise bem estruturada desses dados.\n",
        "\n",
        "Para isso, vamos criar um dicionário que receberá como chave a entrada incorreta, e como valor, a correção.\n",
        "\n",
        "Depois, utilizaremos o método `replace` para aplicar a correção."
      ],
      "metadata": {
        "id": "VUebwKkHkAfs"
      }
    },
    {
      "cell_type": "code",
      "source": [
        "df[\"sigla\"]"
      ],
      "metadata": {
        "colab": {
          "base_uri": "https://localhost:8080/"
        },
        "id": "2rKmtLYMkkO8",
        "outputId": "75cebc23-ee38-4b63-a45c-ca013344fa70"
      },
      "execution_count": 5,
      "outputs": [
        {
          "output_type": "execute_result",
          "data": {
            "text/plain": [
              "0            AC\n",
              "1            AL\n",
              "2            AP\n",
              "3            AM\n",
              "4            BA\n",
              "5            CE\n",
              "6            DF\n",
              "7            ES\n",
              "8             G\n",
              "9            MA\n",
              "10           MT\n",
              "11           MS\n",
              "12           MG\n",
              "13           PA\n",
              "14           PB\n",
              "15           PR\n",
              "16           PE\n",
              "17           PI\n",
              "18           RN\n",
              "19           RS\n",
              "20           RJ\n",
              "21           RO\n",
              "22           RR\n",
              "23           SC\n",
              "24    São Paulo\n",
              "25           SE\n",
              "26           TO\n",
              "Name: sigla, dtype: object"
            ]
          },
          "metadata": {},
          "execution_count": 5
        }
      ]
    },
    {
      "cell_type": "code",
      "source": [
        "##Criando um dicionário para a correção\n",
        "\n",
        "correcao = {\"G\":\"GO\",\"São Paulo\":\"SP\"}\n",
        "\n",
        "df[\"sigla\"] = df[\"sigla\"].replace(correcao)"
      ],
      "metadata": {
        "id": "aokiO0nLkCEI"
      },
      "execution_count": 7,
      "outputs": []
    },
    {
      "cell_type": "code",
      "source": [
        "df[\"sigla\"]"
      ],
      "metadata": {
        "colab": {
          "base_uri": "https://localhost:8080/"
        },
        "id": "VwGJ0WLslqB9",
        "outputId": "65faaf37-25f2-40cd-a767-8c44eb7f7d55"
      },
      "execution_count": 8,
      "outputs": [
        {
          "output_type": "execute_result",
          "data": {
            "text/plain": [
              "0     AC\n",
              "1     AL\n",
              "2     AP\n",
              "3     AM\n",
              "4     BA\n",
              "5     CE\n",
              "6     DF\n",
              "7     ES\n",
              "8     GO\n",
              "9     MA\n",
              "10    MT\n",
              "11    MS\n",
              "12    MG\n",
              "13    PA\n",
              "14    PB\n",
              "15    PR\n",
              "16    PE\n",
              "17    PI\n",
              "18    RN\n",
              "19    RS\n",
              "20    RJ\n",
              "21    RO\n",
              "22    RR\n",
              "23    SC\n",
              "24    SP\n",
              "25    SE\n",
              "26    TO\n",
              "Name: sigla, dtype: object"
            ]
          },
          "metadata": {},
          "execution_count": 8
        }
      ]
    },
    {
      "cell_type": "markdown",
      "source": [
        "Usar replace com dicionário para corrigir valores errados. Na key você coloca o incorreto, e como value põe o correto. Depois use o replace colocando o dicionário criado como parâmetro"
      ],
      "metadata": {
        "id": "29JLei-RluZJ"
      }
    }
  ]
}