{
  "nbformat": 4,
  "nbformat_minor": 0,
  "metadata": {
    "colab": {
      "name": "manipula_pdf.ipynb",
      "provenance": [],
      "include_colab_link": true
    },
    "kernelspec": {
      "name": "python3",
      "display_name": "Python 3"
    },
    "language_info": {
      "name": "python"
    }
  },
  "cells": [
    {
      "cell_type": "markdown",
      "metadata": {
        "id": "view-in-github",
        "colab_type": "text"
      },
      "source": [
        "<a href=\"https://colab.research.google.com/github/thiagoc09/tratamento-de-dados/blob/main/manipula_pdf.ipynb\" target=\"_parent\"><img src=\"https://colab.research.google.com/assets/colab-badge.svg\" alt=\"Open In Colab\"/></a>"
      ]
    },
    {
      "cell_type": "code",
      "source": [
        "# instalando a biblioteca\n",
        "!pip install pdfplumber\n"
      ],
      "metadata": {
        "colab": {
          "base_uri": "https://localhost:8080/"
        },
        "id": "qmSnnT0Vwmp6",
        "outputId": "31b2537c-d6c0-48db-9e8c-5eea51cf7b43"
      },
      "execution_count": null,
      "outputs": [
        {
          "output_type": "stream",
          "name": "stdout",
          "text": [
            "Looking in indexes: https://pypi.org/simple, https://us-python.pkg.dev/colab-wheels/public/simple/\n",
            "Requirement already satisfied: pdfplumber in /usr/local/lib/python3.7/dist-packages (0.7.1)\n",
            "Requirement already satisfied: Wand>=0.6.7 in /usr/local/lib/python3.7/dist-packages (from pdfplumber) (0.6.7)\n",
            "Requirement already satisfied: pdfminer.six==20220524 in /usr/local/lib/python3.7/dist-packages (from pdfplumber) (20220524)\n",
            "Requirement already satisfied: Pillow>=9.1 in /usr/local/lib/python3.7/dist-packages (from pdfplumber) (9.1.1)\n",
            "Requirement already satisfied: cryptography>=36.0.0 in /usr/local/lib/python3.7/dist-packages (from pdfminer.six==20220524->pdfplumber) (37.0.3)\n",
            "Requirement already satisfied: charset-normalizer>=2.0.0 in /usr/local/lib/python3.7/dist-packages (from pdfminer.six==20220524->pdfplumber) (2.0.12)\n",
            "Requirement already satisfied: cffi>=1.12 in /usr/local/lib/python3.7/dist-packages (from cryptography>=36.0.0->pdfminer.six==20220524->pdfplumber) (1.15.0)\n",
            "Requirement already satisfied: pycparser in /usr/local/lib/python3.7/dist-packages (from cffi>=1.12->cryptography>=36.0.0->pdfminer.six==20220524->pdfplumber) (2.21)\n"
          ]
        }
      ]
    },
    {
      "cell_type": "code",
      "execution_count": null,
      "metadata": {
        "id": "3niIpO0sfODB",
        "colab": {
          "base_uri": "https://localhost:8080/"
        },
        "outputId": "bfce1265-f705-4c96-f51c-8727481fc87c"
      },
      "outputs": [
        {
          "output_type": "stream",
          "name": "stdout",
          "text": [
            "Drive already mounted at /content/gdrive; to attempt to forcibly remount, call drive.mount(\"/content/gdrive\", force_remount=True).\n"
          ]
        }
      ],
      "source": [
        "\n",
        "# importando os pacotes necessários\n",
        "import pdfplumber\n",
        "import os\n",
        "from google.colab import drive\n",
        "\n",
        "drive.mount('/content/gdrive')"
      ]
    },
    {
      "cell_type": "code",
      "source": [
        "pdf = pdfplumber.open('/content/gdrive/MyDrive/16522922188692022_lencois_ppt_site.pdf')"
      ],
      "metadata": {
        "id": "q6EvCoQIwtfG"
      },
      "execution_count": null,
      "outputs": []
    },
    {
      "cell_type": "code",
      "source": [
        "pdf.pages"
      ],
      "metadata": {
        "colab": {
          "base_uri": "https://localhost:8080/"
        },
        "id": "qe5ul6mkw7vr",
        "outputId": "5f7cb2a4-800e-4a37-d763-4f21ab46f033"
      },
      "execution_count": null,
      "outputs": [
        {
          "output_type": "execute_result",
          "data": {
            "text/plain": [
              "[<Page:1>,\n",
              " <Page:2>,\n",
              " <Page:3>,\n",
              " <Page:4>,\n",
              " <Page:5>,\n",
              " <Page:6>,\n",
              " <Page:7>,\n",
              " <Page:8>,\n",
              " <Page:9>,\n",
              " <Page:10>,\n",
              " <Page:11>,\n",
              " <Page:12>]"
            ]
          },
          "metadata": {},
          "execution_count": 4
        }
      ]
    },
    {
      "cell_type": "markdown",
      "source": [
        "# Dentro deste pdf de 15 páginas, eu me propus a selecionar apenas aonde mostra o valor da excursão."
      ],
      "metadata": {
        "id": "7RoODjSQ7ccv"
      }
    },
    {
      "cell_type": "code",
      "source": [
        "pagina = pdf.pages[7].extract_text()\n",
        "pagina1 = pagina\n",
        "valores = pagina1.split(\"\\n\")[26].split(\"R$ \")[1]\n",
        "print(valores)"
      ],
      "metadata": {
        "colab": {
          "base_uri": "https://localhost:8080/"
        },
        "id": "uChkoi1lxZJ0",
        "outputId": "073384bf-328d-478c-b791-47c8b9c03d66"
      },
      "execution_count": null,
      "outputs": [
        {
          "output_type": "stream",
          "name": "stdout",
          "text": [
            "4.900 em até 8x \n"
          ]
        }
      ]
    }
  ]
}